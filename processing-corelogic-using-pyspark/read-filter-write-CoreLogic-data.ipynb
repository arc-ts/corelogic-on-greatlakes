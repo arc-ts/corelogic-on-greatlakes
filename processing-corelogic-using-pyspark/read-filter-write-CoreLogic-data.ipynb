{
 "cells": [
  {
   "cell_type": "markdown",
   "id": "a67d5aec",
   "metadata": {},
   "source": [
    "# Processing the CoreLogic Data using PySpark\n",
    "\n",
    "In this Jupyter notebook, we demonstrate how you can process the CoreLogic data using PySpark. \n",
    "\n",
    "In particular, we will show you how to:\n",
    "* import the data, \n",
    "* explore rows and columns, \n",
    "* filter for a given location, \n",
    "* inspect the data for missing and erroneous information, \n",
    "* correct data errors,\n",
    "* and write a subset of the data to a csv file for later use. \n",
    "\n",
    "This [PySpark cheat sheet](http://datacamp-community-prod.s3.amazonaws.com/acfa4325-1d43-4542-8ce4-bea2d287db10) provides a great overview of available PySpark functionality. \n",
    "\n",
    "The notebook was created using a 'Jupyter + Spark Basic session' in [Open on Demand](https://arc.umich.edu/open-ondemand/) (OOD) on [Great Lakes](https://arc.umich.edu/greatlakes/) (GL). This automatically initializes Spark in the background.\n",
    "\n",
    "If you are not running the notebook using OOD on GL, you will most likely have to make sure PySpark is installed on your system and then initialize it by typing \n",
    "\n",
    "```from pyspark import SparkContext```\n",
    "\n",
    "```sc = SparkContext(master = 'local[2]')```\n",
    "\n",
    "If you encounter any errors or have questions about this Jupyter notebook, or if you would like us to add another PySpark example using the CoreLogic data, feel free to reach out to [Armand Burks](mailto:arburks@umich.edu) and [Jule Krüger](mailto:julianek@umich.edu)."
   ]
  },
  {
   "cell_type": "markdown",
   "id": "4cc16a3e",
   "metadata": {},
   "source": [
    "## Importing the CoreLogic data with PySpark\n",
    "\n",
    "The CoreLogic data are stored in a Turbo volume on the ```/nfs``` drive. To get access, you will need to sign a Memorandum of Understanding (MOU) with the University of Michigan Library. For more information about this, see [here](https://github.com/arc-ts/corelogic-on-greatlakes/tree/main/intro-to-corelogic-data). To execute this notebook, you will have to be granted access to the CoreLogic data on Turbo.\n",
    "\n",
    "The raw data come in three separate files: deeds (28GB), foreclosures (6GB), and taxes (24GB). [CSCAR](https://cscar.research.umich.edu/) pre-processed the CoreLogic data and stored each raw file in 100 separate partitions. You can read more about this methodology in ```nfs/turbo/lib-data-corelogic/Docs/cscar_data.txt```.\n",
    "\n",
    "We are going to work with the pre-processed data to improve import speeds. Let's store the paths to the pre-processed partitioned files in three separate variables:"
   ]
  },
  {
   "cell_type": "code",
   "execution_count": 1,
   "id": "ce474a96",
   "metadata": {},
   "outputs": [],
   "source": [
    "turbo_path_fcl = \"/nfs/turbo/lib-data-corelogic/Data/fcl/*.gz\"\n",
    "turbo_path_deed = \"/nfs/turbo/lib-data-corelogic/Data/deed/*.gz\"\n",
    "turbo_path_tax = \"/nfs/turbo/lib-data-corelogic/Data/tax/*.gz\""
   ]
  },
  {
   "cell_type": "markdown",
   "id": "8d8ba4b9",
   "metadata": {},
   "source": [
    "The following command imports a set of partitioned CoreLogic data files into a dataframe (df). You can switch between foreclosures, deeds, and taxes by choosing the relevant path accordingly. In each text file, the pipe ```|``` was used as a delimiter and is set  in the ```sep``` argument as such.\n",
    "\n",
    "__A note on import speeds__: Because of their size, it takes a little while to read in each partitioned data file collection. Importing the raw data files takes much longer. Using the pre-processed data from CSCAR, which distributes the data across 100 partitions, greatly improves import speeds as Spark can spread computation across multiple cores.\n",
    "\n",
    "Let's work with the deed data for now:"
   ]
  },
  {
   "cell_type": "code",
   "execution_count": 2,
   "id": "5904b3dc",
   "metadata": {},
   "outputs": [],
   "source": [
    "df = spark.read.csv(turbo_path_deed, header=True, sep=\"|\")"
   ]
  },
  {
   "cell_type": "markdown",
   "id": "13fac120",
   "metadata": {},
   "source": [
    "(A small note on reading in the data: You could set the ```inferSchema=True``` argument, which would make Python infer the column type. The drawback of this is that FIPS and ZIP codes that start with a `0` have the leading `0` removed in the creation of an integer variable. We choose to keep ```inferSchema=False```, the default argument, to avoid this.)"
   ]
  },
  {
   "cell_type": "markdown",
   "id": "3978f9af",
   "metadata": {},
   "source": [
    "## Exploring the CoreLogic data (rows and columns)\n",
    "\n",
    "First, we want to get a basic idea of the CoreLogic data. What are the columns and what types of values do they contain? The .printSchema() method prints the data type (integer, string, double) for each column in the dataset. \n",
    "\n",
    "Because we set ```inferSchema=False```, all columns are read in as string data types. ```nullable = true``` means that a given column can accept missing (```null```) values.\n",
    "\n",
    "*Note*: FIPS stands for \"Federal Information Processing Series\" codes that identify geographic entities within the U.S. ([source](https://www.census.gov/library/reference/code-lists/ansi.html)). We will be working with FIPS codes later in this notebook."
   ]
  },
  {
   "cell_type": "code",
   "execution_count": 3,
   "id": "2eebc90b",
   "metadata": {},
   "outputs": [
    {
     "name": "stdout",
     "output_type": "stream",
     "text": [
      "root\n",
      " |-- FIPS: string (nullable = true)\n",
      " |-- APN (Parcel Number) (unformatted): string (nullable = true)\n",
      " |-- PCL ID IRIS FORMATTED: string (nullable = true)\n",
      " |-- APN SEQUENCE NUMBER: string (nullable = true)\n",
      " |-- PENDING RECORD INDICATOR: string (nullable = true)\n",
      " |-- CORPORATE INDICATOR: string (nullable = true)\n",
      " |-- OWNER FULL NAME: string (nullable = true)\n",
      " |-- OWNER 1 LAST NAME: string (nullable = true)\n",
      " |-- OWNER 1 FIRST NAME & M I: string (nullable = true)\n",
      " |-- OWNER 2 LAST NAME: string (nullable = true)\n",
      " |-- OWNER 2 FIRST NAME & MI: string (nullable = true)\n",
      " |-- OWNER ETAL INDICATOR: string (nullable = true)\n",
      " |-- C/O NAME: string (nullable = true)\n",
      " |-- OWNER RELATIONSHIP RIGHTS CODE: string (nullable = true)\n",
      " |-- OWNER RELATIONSHIP TYPE: string (nullable = true)\n",
      " |-- PARTIAL INTEREST INDICATOR: string (nullable = true)\n",
      " |-- ABSENTEE OWNER STATUS: string (nullable = true)\n",
      " |-- PROPERTY LEVEL LATITUDE: string (nullable = true)\n",
      " |-- PROPERTY LEVEL LONGITUDE: string (nullable = true)\n",
      " |-- SITUS HOUSE NUMBER PREFIX: string (nullable = true)\n",
      " |-- SITUS HOUSE NUMBER: string (nullable = true)\n",
      " |-- SITUS HOUSE NUMBER SUFFIX: string (nullable = true)\n",
      " |-- SITUS DIRECTION: string (nullable = true)\n",
      " |-- SITUS STREET NAME: string (nullable = true)\n",
      " |-- SITUS MODE: string (nullable = true)\n",
      " |-- SITUS QUADRANT: string (nullable = true)\n",
      " |-- SITUS APARTMENT UNIT: string (nullable = true)\n",
      " |-- SITUS CITY: string (nullable = true)\n",
      " |-- SITUS STATE: string (nullable = true)\n",
      " |-- SITUS ZIP CODE: string (nullable = true)\n",
      " |-- SITUS CARRIER CODE: string (nullable = true)\n",
      " |-- MAILING HOUSE NUMBER PREFIX: string (nullable = true)\n",
      " |-- MAILING HOUSE NUMBER: string (nullable = true)\n",
      " |-- MAILING HOUSE NUMBER SUFFIX: string (nullable = true)\n",
      " |-- MAILING DIRECTION: string (nullable = true)\n",
      " |-- MAILING STREET NAME: string (nullable = true)\n",
      " |-- MAILING MODE: string (nullable = true)\n",
      " |-- MAILING QUADRANT: string (nullable = true)\n",
      " |-- MAILING APARTMENT UNIT: string (nullable = true)\n",
      " |-- MAILING PROPERTY CITY: string (nullable = true)\n",
      " |-- MAILING PROPERTY STATE: string (nullable = true)\n",
      " |-- MAILING PROPERTY ADDRESS ZIP CODE: string (nullable = true)\n",
      " |-- MAILING CARRIER CODE: string (nullable = true)\n",
      " |-- BATCH-ID: string (nullable = true)\n",
      " |-- BATCH-SEQ: string (nullable = true)\n",
      " |-- MULTI APN: string (nullable = true)\n",
      " |-- SELLER LAST NAME: string (nullable = true)\n",
      " |-- SELLER FIRST NAME: string (nullable = true)\n",
      " |-- SELLER NAME 1: string (nullable = true)\n",
      " |-- SELLER NAME 2: string (nullable = true)\n",
      " |-- SALE CODE: string (nullable = true)\n",
      " |-- SALE AMOUNT: string (nullable = true)\n",
      " |-- SALE DATE (YYYYMMDD): string (nullable = true)\n",
      " |-- RECORDING DATE (YYYYMMDD): string (nullable = true)\n",
      " |-- DOCUMENT TYPE: string (nullable = true)\n",
      " |-- TRANSACTION TYPE: string (nullable = true)\n",
      " |-- DOCUMENT NUMBER: string (nullable = true)\n",
      " |-- BOOK/PAGE (6x6): string (nullable = true)\n",
      " |-- LENDER FULL NAME: string (nullable = true)\n",
      " |-- LENDER LAST NAME: string (nullable = true)\n",
      " |-- LENDER FIRST NAME: string (nullable = true)\n",
      " |-- LENDER ADDRESS: string (nullable = true)\n",
      " |-- LENDER CITY: string (nullable = true)\n",
      " |-- LENDER ST: string (nullable = true)\n",
      " |-- LENDER ZIP: string (nullable = true)\n",
      " |-- LENDER COMPANY CODE: string (nullable = true)\n",
      " |-- TITLE COMPANY NAME: string (nullable = true)\n",
      " |-- TITLE COMPANY CODE: string (nullable = true)\n",
      " |-- MORTGAGE AMOUNT: string (nullable = true)\n",
      " |-- MORTGAGE DATE: string (nullable = true)\n",
      " |-- MORTGAGE INTEREST RATE: string (nullable = true)\n",
      " |-- MORTGAGE LOAN TYPE CODE: string (nullable = true)\n",
      " |-- MORTGAGE DEED TYPE: string (nullable = true)\n",
      " |-- MORTGAGE TERM CODE: string (nullable = true)\n",
      " |-- MORTGAGE TERM: string (nullable = true)\n",
      " |-- MORTGAGE DUE DATE: string (nullable = true)\n",
      " |-- MORTGAGE ASSUMPTION AMOUNT: string (nullable = true)\n",
      " |-- MTG SEQ NUMBER: string (nullable = true)\n",
      " |-- PRI-CAT-CODE: string (nullable = true)\n",
      " |-- MTG SEC CAT CODES 1X10: string (nullable = true)\n",
      " |-- DEED SEC CAT CODES 2X10: string (nullable = true)\n",
      " |-- OWNERSHIP TRANSFER PERCENTAGE: string (nullable = true)\n",
      " |-- LAND USE: string (nullable = true)\n",
      " |-- PROPERTY INDICATOR: string (nullable = true)\n",
      " |-- SELLER CARRY BACK: string (nullable = true)\n",
      " |-- INTER FAMILY: string (nullable = true)\n",
      " |-- PRIVATE PARTY LENDER: string (nullable = true)\n",
      " |-- MORTGAGE INTEREST RATE TYPE: string (nullable = true)\n",
      " |-- CONSTRUCTION LOAN: string (nullable = true)\n",
      " |-- RESALE/NEW CONSTRUCTION: string (nullable = true)\n",
      " |-- FORECLOSURE: string (nullable = true)\n",
      " |-- CASH/MORTGAGE PURCHASE: string (nullable = true)\n",
      " |-- EQUITY FLAG: string (nullable = true)\n",
      " |-- REFI FLAG: string (nullable = true)\n",
      " |-- RESIDENTIAL MODEL INDICATOR: string (nullable = true)\n",
      " |-- ADD/CHANGE FIELD: string (nullable = true)\n",
      " |-- FILLER: string (nullable = true)\n",
      "\n"
     ]
    }
   ],
   "source": [
    "df.printSchema()"
   ]
  },
  {
   "cell_type": "markdown",
   "id": "f3058a25",
   "metadata": {},
   "source": [
    "Let's calculate how many rows and columns there are in total. Note that we will store these values in their own variables because it takes quite a while to calculate the number of rows in our data. If we commit this number to current memory by storing it in a variable, we can easily reuse it later for various purposes without having to recalculate it first. This practice is also known as \"lazy execution.\""
   ]
  },
  {
   "cell_type": "code",
   "execution_count": 4,
   "id": "951a0324",
   "metadata": {},
   "outputs": [
    {
     "name": "stdout",
     "output_type": "stream",
     "text": [
      "367782480 97\n"
     ]
    }
   ],
   "source": [
    "numRows = df.count()\n",
    "numCols = len(df.columns)\n",
    "print(numRows,numCols)"
   ]
  },
  {
   "cell_type": "markdown",
   "id": "0e6e508e",
   "metadata": {},
   "source": [
    "We can print a list of the column names like so."
   ]
  },
  {
   "cell_type": "code",
   "execution_count": 5,
   "id": "6d3ac646",
   "metadata": {},
   "outputs": [
    {
     "data": {
      "text/plain": [
       "['FIPS',\n",
       " 'APN (Parcel Number) (unformatted)',\n",
       " 'PCL ID IRIS FORMATTED',\n",
       " 'APN SEQUENCE NUMBER',\n",
       " 'PENDING RECORD INDICATOR',\n",
       " 'CORPORATE INDICATOR',\n",
       " 'OWNER FULL NAME',\n",
       " 'OWNER 1 LAST NAME',\n",
       " 'OWNER 1 FIRST NAME & M I',\n",
       " 'OWNER 2 LAST NAME',\n",
       " 'OWNER 2 FIRST NAME & MI',\n",
       " 'OWNER ETAL INDICATOR',\n",
       " 'C/O NAME',\n",
       " 'OWNER RELATIONSHIP RIGHTS CODE',\n",
       " 'OWNER RELATIONSHIP TYPE',\n",
       " 'PARTIAL INTEREST INDICATOR',\n",
       " 'ABSENTEE OWNER STATUS',\n",
       " 'PROPERTY LEVEL LATITUDE',\n",
       " 'PROPERTY LEVEL LONGITUDE',\n",
       " 'SITUS HOUSE NUMBER PREFIX',\n",
       " 'SITUS HOUSE NUMBER',\n",
       " 'SITUS HOUSE NUMBER SUFFIX',\n",
       " 'SITUS DIRECTION',\n",
       " 'SITUS STREET NAME',\n",
       " 'SITUS MODE',\n",
       " 'SITUS QUADRANT',\n",
       " 'SITUS APARTMENT UNIT',\n",
       " 'SITUS CITY',\n",
       " 'SITUS STATE',\n",
       " 'SITUS ZIP CODE',\n",
       " 'SITUS CARRIER CODE',\n",
       " 'MAILING HOUSE NUMBER PREFIX',\n",
       " 'MAILING HOUSE NUMBER',\n",
       " 'MAILING HOUSE NUMBER SUFFIX',\n",
       " 'MAILING DIRECTION',\n",
       " 'MAILING STREET NAME',\n",
       " 'MAILING MODE',\n",
       " 'MAILING QUADRANT',\n",
       " 'MAILING APARTMENT UNIT',\n",
       " 'MAILING PROPERTY CITY',\n",
       " 'MAILING PROPERTY STATE',\n",
       " 'MAILING PROPERTY ADDRESS ZIP CODE',\n",
       " 'MAILING CARRIER CODE',\n",
       " 'BATCH-ID',\n",
       " 'BATCH-SEQ',\n",
       " 'MULTI APN',\n",
       " 'SELLER LAST NAME',\n",
       " 'SELLER FIRST NAME',\n",
       " 'SELLER NAME 1',\n",
       " 'SELLER NAME 2',\n",
       " 'SALE CODE',\n",
       " 'SALE AMOUNT',\n",
       " 'SALE DATE (YYYYMMDD)',\n",
       " 'RECORDING DATE (YYYYMMDD)',\n",
       " 'DOCUMENT TYPE',\n",
       " 'TRANSACTION TYPE',\n",
       " 'DOCUMENT NUMBER',\n",
       " 'BOOK/PAGE (6x6)',\n",
       " 'LENDER FULL NAME',\n",
       " 'LENDER LAST NAME',\n",
       " 'LENDER FIRST NAME',\n",
       " 'LENDER ADDRESS',\n",
       " 'LENDER CITY',\n",
       " 'LENDER ST',\n",
       " 'LENDER ZIP',\n",
       " 'LENDER COMPANY CODE',\n",
       " 'TITLE COMPANY NAME',\n",
       " 'TITLE COMPANY CODE',\n",
       " 'MORTGAGE AMOUNT',\n",
       " 'MORTGAGE DATE',\n",
       " 'MORTGAGE INTEREST RATE',\n",
       " 'MORTGAGE LOAN TYPE CODE',\n",
       " 'MORTGAGE DEED TYPE',\n",
       " 'MORTGAGE TERM CODE',\n",
       " 'MORTGAGE TERM',\n",
       " 'MORTGAGE DUE DATE',\n",
       " 'MORTGAGE ASSUMPTION AMOUNT',\n",
       " 'MTG SEQ NUMBER',\n",
       " 'PRI-CAT-CODE',\n",
       " 'MTG SEC CAT CODES 1X10',\n",
       " 'DEED SEC CAT CODES 2X10',\n",
       " 'OWNERSHIP TRANSFER PERCENTAGE',\n",
       " 'LAND USE',\n",
       " 'PROPERTY INDICATOR',\n",
       " 'SELLER CARRY BACK',\n",
       " 'INTER FAMILY',\n",
       " 'PRIVATE PARTY LENDER',\n",
       " 'MORTGAGE INTEREST RATE TYPE',\n",
       " 'CONSTRUCTION LOAN',\n",
       " 'RESALE/NEW CONSTRUCTION',\n",
       " 'FORECLOSURE',\n",
       " 'CASH/MORTGAGE PURCHASE',\n",
       " 'EQUITY FLAG',\n",
       " 'REFI FLAG',\n",
       " 'RESIDENTIAL MODEL INDICATOR',\n",
       " 'ADD/CHANGE FIELD',\n",
       " 'FILLER']"
      ]
     },
     "execution_count": 5,
     "metadata": {},
     "output_type": "execute_result"
    }
   ],
   "source": [
    "df.columns"
   ]
  },
  {
   "cell_type": "markdown",
   "id": "e02a39e3",
   "metadata": {},
   "source": [
    "## Inspecting variable distributions\n",
    "\n",
    "We can use the ```describe``` method to calculate summary statistics for select columns (variables). Summary statistics can only be calculated for columns of type ```integer``` or ```double```. Currently, all of our variables are stored as type ```string```. We can convert a column to numeric values by casting it to type ```integer```."
   ]
  },
  {
   "cell_type": "code",
   "execution_count": 6,
   "id": "8c716931",
   "metadata": {},
   "outputs": [
    {
     "data": {
      "text/plain": [
       "[('MORTGAGE AMOUNT', 'int')]"
      ]
     },
     "execution_count": 6,
     "metadata": {},
     "output_type": "execute_result"
    }
   ],
   "source": [
    "from pyspark.sql.types import IntegerType\n",
    "df = df.withColumn(\"MORTGAGE AMOUNT\", df[\"MORTGAGE AMOUNT\"].cast(IntegerType()))\n",
    "df.select([\"MORTGAGE AMOUNT\"]).dtypes"
   ]
  },
  {
   "cell_type": "markdown",
   "id": "bdd599a7",
   "metadata": {},
   "source": [
    "Now that the 'mortgage amount' column is numeric, we can calculate basic summary statistics (mean, standard deviation, minimum and maximum value). As you can see, the average mortgage amount in the CoreLogic data is about $800K."
   ]
  },
  {
   "cell_type": "code",
   "execution_count": 7,
   "id": "1dc32d86",
   "metadata": {},
   "outputs": [
    {
     "name": "stdout",
     "output_type": "stream",
     "text": [
      "+-------+--------------------+\n",
      "|summary|     MORTGAGE AMOUNT|\n",
      "+-------+--------------------+\n",
      "|  count|           111058818|\n",
      "|   mean|   779943.3151940263|\n",
      "| stddev|1.6808331794028625E7|\n",
      "|    min|                   0|\n",
      "|    max|          2075000000|\n",
      "+-------+--------------------+\n",
      "\n"
     ]
    }
   ],
   "source": [
    "df.describe(['MORTGAGE AMOUNT']).show()"
   ]
  },
  {
   "cell_type": "markdown",
   "id": "678ae195",
   "metadata": {},
   "source": [
    "Let's do the same for the sale amount of a property:"
   ]
  },
  {
   "cell_type": "code",
   "execution_count": 8,
   "id": "00601ff6",
   "metadata": {},
   "outputs": [
    {
     "name": "stdout",
     "output_type": "stream",
     "text": [
      "+-------+-----------------+\n",
      "|summary|      SALE AMOUNT|\n",
      "+-------+-----------------+\n",
      "|  count|        213239549|\n",
      "|   mean|402407.0318453403|\n",
      "| stddev|6648148.318833588|\n",
      "|    min|                0|\n",
      "|    max|       2128327250|\n",
      "+-------+-----------------+\n",
      "\n"
     ]
    }
   ],
   "source": [
    "df = df.withColumn(\"SALE AMOUNT\", df[\"SALE AMOUNT\"].cast(IntegerType()))\n",
    "df.describe(['SALE AMOUNT']).show()"
   ]
  },
  {
   "cell_type": "markdown",
   "id": "75a8f7e0",
   "metadata": {},
   "source": [
    "Interestingly, the average sale amount is about half of the average mortgage amount. But these differences could also be driven by missing information in the data."
   ]
  },
  {
   "cell_type": "markdown",
   "id": "ad60ae7d",
   "metadata": {},
   "source": [
    "## Exploring the amount of missing data within and across columns\n",
    "\n",
    "It is important to know for columns of interest how many missing values they contain. Information on data missingness guides decisions on what needs to be done with affected rows. Can rows with missing information simply be dropped? Or, do we need to try to fill in missing values conditional on information in other columns?\n",
    "\n",
    "Let's investigate whether the mortgage column contains any missing values."
   ]
  },
  {
   "cell_type": "code",
   "execution_count": 8,
   "id": "fb536162",
   "metadata": {},
   "outputs": [
    {
     "name": "stdout",
     "output_type": "stream",
     "text": [
      "+-----------------------------------------------------+\n",
      "|count(CASE WHEN isnan(MORTGAGE AMOUNT) THEN true END)|\n",
      "+-----------------------------------------------------+\n",
      "|                                                    0|\n",
      "+-----------------------------------------------------+\n",
      "\n"
     ]
    }
   ],
   "source": [
    "from pyspark.sql.functions import isnan, when, count, col\n",
    "df.select([count(when(isnan('MORTGAGE AMOUNT'),True))]).show()"
   ]
  },
  {
   "cell_type": "markdown",
   "id": "1e3859d3",
   "metadata": {},
   "source": [
    "This column does not contain any missing values encoded as ```NaN```. Let's investigate whether the mortgage column containts any ```null``` values. This is just another way of how missing values could be stored."
   ]
  },
  {
   "cell_type": "code",
   "execution_count": 10,
   "id": "c9e9c3e0",
   "metadata": {},
   "outputs": [
    {
     "name": "stdout",
     "output_type": "stream",
     "text": [
      "+--------------------------------------------------------+\n",
      "|count(CASE WHEN (MORTGAGE AMOUNT IS NULL) THEN true END)|\n",
      "+--------------------------------------------------------+\n",
      "|                                               256723662|\n",
      "+--------------------------------------------------------+\n",
      "\n"
     ]
    }
   ],
   "source": [
    "df.select([count(when(col('MORTGAGE AMOUNT').isNull(),True))]).show()"
   ]
  },
  {
   "cell_type": "markdown",
   "id": "1bf3ef66",
   "metadata": {},
   "source": [
    "That is quite a lot of missing information. We can calculate the percentage of ```null``` values in the mortgage column to get a better idea of the amount of missingness. To do so, we divide the number of rows with ```null``` values in the mortgage amount column by the total number of rows in the CoreLogic data. We can reuse the ```numRows``` variable here that we calculated earlier (see comment on 'lazy execution' above) to save us some processing time."
   ]
  },
  {
   "cell_type": "code",
   "execution_count": 11,
   "id": "00f71b0f",
   "metadata": {},
   "outputs": [
    {
     "name": "stdout",
     "output_type": "stream",
     "text": [
      "+----------------------------------------------------------------------+\n",
      "|(count(CASE WHEN (MORTGAGE AMOUNT IS NULL) THEN true END) / 367782480)|\n",
      "+----------------------------------------------------------------------+\n",
      "|                                                    0.6980312439026459|\n",
      "+----------------------------------------------------------------------+\n",
      "\n"
     ]
    }
   ],
   "source": [
    "df.select([(count(when(col('MORTGAGE AMOUNT').isNull(),True))/numRows)]).show()"
   ]
  },
  {
   "cell_type": "markdown",
   "id": "7a1d0cad",
   "metadata": {},
   "source": [
    "As you can see, almost 70% of mortgage amount information is missing in the deeds dataset.\n",
    "\n",
    "Let's calculate the proportion of records for which mortgage AND sale amount information is missing:"
   ]
  },
  {
   "cell_type": "code",
   "execution_count": 12,
   "id": "e71e47d9",
   "metadata": {},
   "outputs": [
    {
     "name": "stdout",
     "output_type": "stream",
     "text": [
      "+--------------------------------------------------------------------------------------------------+\n",
      "|(count(CASE WHEN ((MORTGAGE AMOUNT IS NULL) AND (SALE AMOUNT IS NULL)) THEN true END) / 367782480)|\n",
      "+--------------------------------------------------------------------------------------------------+\n",
      "|                                                                               0.40302083720790616|\n",
      "+--------------------------------------------------------------------------------------------------+\n",
      "\n"
     ]
    }
   ],
   "source": [
    "df.select([(count(when(col('MORTGAGE AMOUNT').isNull() & col('SALE AMOUNT').isNull(), True))/numRows)]).show()"
   ]
  },
  {
   "cell_type": "markdown",
   "id": "e5f3f6a8",
   "metadata": {},
   "source": [
    "As we can see, about 40% of records have missing information on both the mortgage and sale amount columns."
   ]
  },
  {
   "cell_type": "markdown",
   "id": "a91c22de",
   "metadata": {},
   "source": [
    "## Inspecting categorical variables\n",
    "\n",
    "We might be interested in the range of unique values of categorical variables. Let's print the total number of unique values of states designated by the 'SITUS STATE' column. (According to the Oxford Dictionary, \"situs\" is a legal term that designates \"*the place to which, for purposes of legal jurisdiction or taxation, a property belongs.*\")"
   ]
  },
  {
   "cell_type": "code",
   "execution_count": 20,
   "id": "d553a637",
   "metadata": {},
   "outputs": [
    {
     "data": {
      "text/plain": [
       "53"
      ]
     },
     "execution_count": 20,
     "metadata": {},
     "output_type": "execute_result"
    }
   ],
   "source": [
    "nStates = len(df.select('SITUS STATE').distinct().collect())\n",
    "print(nStates)"
   ]
  },
  {
   "cell_type": "markdown",
   "id": "86990683",
   "metadata": {},
   "source": [
    "The SITUS STATE column contains 53 unique values, which is unexpected. There should be 50 states plus Washington, DC. \n",
    "\n",
    "Let's create a frequency table of the column values to get a better idea of this variable. We will sort the table in descending order of state counts. We will set ```n=nStates``` in the show() method to print all rows in the table. The two additional values are: (1) ```null``` (the amount of missing values in the SITUS STATE column), and (2) `VI`, which stands for the Virgin Islands."
   ]
  },
  {
   "cell_type": "code",
   "execution_count": 12,
   "id": "78155564",
   "metadata": {},
   "outputs": [
    {
     "name": "stdout",
     "output_type": "stream",
     "text": [
      "+-----------+--------+\n",
      "|SITUS STATE|   count|\n",
      "+-----------+--------+\n",
      "|         CA|52167596|\n",
      "|       null|35371569|\n",
      "|         FL|35281257|\n",
      "|         TX|21674192|\n",
      "|         OH|13347704|\n",
      "|         PA|12254911|\n",
      "|         AZ|12006118|\n",
      "|         IL|11947950|\n",
      "|         GA|11148302|\n",
      "|         NY|10456027|\n",
      "|         NC| 9686809|\n",
      "|         MI| 8638900|\n",
      "|         TN| 8638649|\n",
      "|         CO| 8112459|\n",
      "|         WA| 8104844|\n",
      "|         VA| 7827533|\n",
      "|         NJ| 7320302|\n",
      "|         MD| 6525203|\n",
      "|         MO| 6496410|\n",
      "|         SC| 6311502|\n",
      "|         OK| 5217718|\n",
      "|         MA| 4876134|\n",
      "|         OR| 4767128|\n",
      "|         NV| 4712444|\n",
      "|         IN| 4394358|\n",
      "|         AL| 4379161|\n",
      "|         AR| 4378459|\n",
      "|         MN| 4267855|\n",
      "|         WI| 3864221|\n",
      "|         UT| 3154019|\n",
      "|         KY| 3018343|\n",
      "|         MS| 2978654|\n",
      "|         HI| 2572320|\n",
      "|         CT| 2513164|\n",
      "|         LA| 2497956|\n",
      "|         WV| 2374639|\n",
      "|         KS| 2348984|\n",
      "|         IA| 1982068|\n",
      "|         NM| 1546001|\n",
      "|         NE| 1365483|\n",
      "|         MT| 1289606|\n",
      "|         ID| 1138025|\n",
      "|         DE|  905431|\n",
      "|         ME|  614182|\n",
      "|         NH|  559467|\n",
      "|         RI|  465933|\n",
      "|         DC|  457645|\n",
      "|         AK|  428840|\n",
      "|         ND|  426858|\n",
      "|         VT|  329881|\n",
      "|         SD|  318106|\n",
      "|         WY|  300540|\n",
      "|         VI|   20620|\n",
      "+-----------+--------+\n",
      "\n"
     ]
    }
   ],
   "source": [
    "from pyspark.sql.functions import desc\n",
    "df.groupBy('SITUS STATE').count().sort(desc(\"count\")).show(n=nStates)"
   ]
  },
  {
   "cell_type": "markdown",
   "id": "ef9b8b3c",
   "metadata": {},
   "source": [
    "## Inspecting string columns that contain date information\n",
    "\n",
    "We might be interested in columns that present information about time/dates. Let's go ahead and identify the columns that seem to contain date information. As we can see below, dates are stored in   ```YYYYMMDD``` format in the deeds data and there is quite a bit of missing information (```null``` as well)."
   ]
  },
  {
   "cell_type": "code",
   "execution_count": 13,
   "id": "523374c9",
   "metadata": {},
   "outputs": [
    {
     "name": "stdout",
     "output_type": "stream",
     "text": [
      "+--------------------+-------------------------+-------------+-----------------+\n",
      "|SALE DATE (YYYYMMDD)|RECORDING DATE (YYYYMMDD)|MORTGAGE DATE|MORTGAGE DUE DATE|\n",
      "+--------------------+-------------------------+-------------+-----------------+\n",
      "|                null|                 19780600|         null|             null|\n",
      "|                null|                 19910717|     19910717|             null|\n",
      "|                null|                 20050908|         null|             null|\n",
      "|                null|                 20050804|         null|             null|\n",
      "|                null|                 20051229|         null|             null|\n",
      "|                null|                 20051221|         null|             null|\n",
      "|                null|                 20051221|         null|             null|\n",
      "|                null|                 20051216|         null|             null|\n",
      "|                null|                 20051214|         null|             null|\n",
      "|                null|                 20051205|         null|             null|\n",
      "|                null|                 20051117|         null|             null|\n",
      "|                null|                 20051109|         null|             null|\n",
      "|                null|                 20051024|         null|             null|\n",
      "|                null|                 20051031|         null|             null|\n",
      "|                null|                 20051031|         null|             null|\n",
      "|                null|                 20051028|         null|             null|\n",
      "|                null|                 20051027|         null|             null|\n",
      "|                null|                 20051020|         null|             null|\n",
      "|                null|                 19910717|         null|             null|\n",
      "|                null|                 20051014|         null|             null|\n",
      "+--------------------+-------------------------+-------------+-----------------+\n",
      "only showing top 20 rows\n",
      "\n"
     ]
    }
   ],
   "source": [
    "df.select([s for s in df.columns if 'DATE' in s]).show()"
   ]
  },
  {
   "cell_type": "markdown",
   "id": "28412b98",
   "metadata": {},
   "source": [
    "Let's work with the ```RECORDING DATE (YYYYMMDD)``` column to identify the time period (in years) that is covered in the CoreLogic data. We will rename this column first to get rid of the space and parentheses in the column name. "
   ]
  },
  {
   "cell_type": "code",
   "execution_count": 14,
   "id": "d5cfd1cf",
   "metadata": {},
   "outputs": [],
   "source": [
    "df = df.withColumnRenamed('RECORDING DATE (YYYYMMDD)','RECORDINGDATE')"
   ]
  },
  {
   "cell_type": "markdown",
   "id": "a97e1a86",
   "metadata": {},
   "source": [
    "Now we are ready to subset this string and collect the first four digits to obtain year-only information. We will also cast this new column into type integer."
   ]
  },
  {
   "cell_type": "code",
   "execution_count": 15,
   "id": "e6bd9540",
   "metadata": {},
   "outputs": [
    {
     "name": "stdout",
     "output_type": "stream",
     "text": [
      "+-------------+-----------+\n",
      "|RECORDINGDATE|record_year|\n",
      "+-------------+-----------+\n",
      "|     19780600|       1978|\n",
      "|     19910717|       1991|\n",
      "|     20050908|       2005|\n",
      "|     20050804|       2005|\n",
      "|     20051229|       2005|\n",
      "|     20051221|       2005|\n",
      "|     20051221|       2005|\n",
      "|     20051216|       2005|\n",
      "|     20051214|       2005|\n",
      "|     20051205|       2005|\n",
      "|     20051117|       2005|\n",
      "|     20051109|       2005|\n",
      "|     20051024|       2005|\n",
      "|     20051031|       2005|\n",
      "|     20051031|       2005|\n",
      "|     20051028|       2005|\n",
      "|     20051027|       2005|\n",
      "|     20051020|       2005|\n",
      "|     19910717|       1991|\n",
      "|     20051014|       2005|\n",
      "+-------------+-----------+\n",
      "only showing top 20 rows\n",
      "\n"
     ]
    }
   ],
   "source": [
    "df = df.withColumn('record_year', df.RECORDINGDATE.substr(0,4).cast(IntegerType()))\n",
    "df.select(['RECORDINGDATE','record_year']).show()"
   ]
  },
  {
   "cell_type": "markdown",
   "id": "1b97bbbf",
   "metadata": {},
   "source": [
    "Now that we have created a new column that just gives the year of a deed record, let's investigate which years are represented in the CoreLogic data. Let's calculate the number of unique years first that are covered in the dataset."
   ]
  },
  {
   "cell_type": "code",
   "execution_count": 18,
   "id": "d1aa3439",
   "metadata": {},
   "outputs": [],
   "source": [
    "nYears = len(df.select('record_year').distinct().collect())\n",
    "print(nYears)"
   ]
  },
  {
   "cell_type": "markdown",
   "id": "e8b5ba78",
   "metadata": {},
   "source": [
    "It looks like the CoreLogic data covers more than a century of deed records. We can calculate the frequency distribution of ```record_year``` by counting the number of observations for each unique ```record_year``` value. Let's also sort this distribution by ```record_year``` using the ```sort``` method. Using the ```show``` method with ```n``` equal to the number of unique record year values we calculated previously will display the frequency distribution in a table."
   ]
  },
  {
   "cell_type": "code",
   "execution_count": 19,
   "id": "89319979",
   "metadata": {},
   "outputs": [
    {
     "name": "stdout",
     "output_type": "stream",
     "text": [
      "+-----------+--------+\n",
      "|record_year|   count|\n",
      "+-----------+--------+\n",
      "|       null|65650040|\n",
      "|       1812|       1|\n",
      "|       1896|       1|\n",
      "|       1900|   14455|\n",
      "|       1901|    5802|\n",
      "|       1902|    3051|\n",
      "|       1903|    2772|\n",
      "|       1904|    2378|\n",
      "|       1905|    2304|\n",
      "|       1906|    2023|\n",
      "|       1907|    2183|\n",
      "|       1908|    1940|\n",
      "|       1909|    2314|\n",
      "|       1910|    5909|\n",
      "|       1911|    4141|\n",
      "|       1912|    3698|\n",
      "|       1913|    3628|\n",
      "|       1914|    3686|\n",
      "|       1915|    2785|\n",
      "|       1916|    3098|\n",
      "|       1917|    2848|\n",
      "|       1918|    2540|\n",
      "|       1919|    3535|\n",
      "|       1920|    3210|\n",
      "|       1921|    2431|\n",
      "|       1922|    2767|\n",
      "|       1923|    3134|\n",
      "|       1924|    3170|\n",
      "|       1925|    3305|\n",
      "|       1926|    3157|\n",
      "|       1927|    3612|\n",
      "|       1928|    3452|\n",
      "|       1929|    3413|\n",
      "|       1930|    3702|\n",
      "|       1931|    2819|\n",
      "|       1932|    1983|\n",
      "|       1933|    2191|\n",
      "|       1934|    2199|\n",
      "|       1935|    2779|\n",
      "|       1936|    3468|\n",
      "|       1937|    3672|\n",
      "|       1938|    3996|\n",
      "|       1939|    4420|\n",
      "|       1940|    7722|\n",
      "|       1941|    7294|\n",
      "|       1942|    6857|\n",
      "|       1943|    7444|\n",
      "|       1944|    9044|\n",
      "|       1945|   11268|\n",
      "|       1946|   16958|\n",
      "|       1947|   17185|\n",
      "|       1948|   17536|\n",
      "|       1949|   18592|\n",
      "|       1950|   27174|\n",
      "|       1951|   28914|\n",
      "|       1952|   29678|\n",
      "|       1953|   32645|\n",
      "|       1954|   36612|\n",
      "|       1955|   47418|\n",
      "|       1956|   50835|\n",
      "|       1957|   54571|\n",
      "|       1958|   53359|\n",
      "|       1959|   67300|\n",
      "|       1960|   70794|\n",
      "|       1961|   74556|\n",
      "|       1962|   85855|\n",
      "|       1963|   98536|\n",
      "|       1964|  122661|\n",
      "|       1965|  140822|\n",
      "|       1966|  143762|\n",
      "|       1967|  158834|\n",
      "|       1968|  202081|\n",
      "|       1969|  223828|\n",
      "|       1970|  244002|\n",
      "|       1971|  310091|\n",
      "|       1972|  378381|\n",
      "|       1973|  428974|\n",
      "|       1974|  411536|\n",
      "|       1975|  482645|\n",
      "|       1976|  657890|\n",
      "|       1977|  861078|\n",
      "|       1978| 1059227|\n",
      "|       1979| 1306256|\n",
      "|       1980| 1309846|\n",
      "|       1981| 1315549|\n",
      "|       1982| 1219425|\n",
      "|       1983| 1718284|\n",
      "|       1984| 1944557|\n",
      "|       1985| 2430774|\n",
      "|       1986| 3121878|\n",
      "|       1987| 4059971|\n",
      "|       1988| 4906109|\n",
      "|       1989| 5285114|\n",
      "|       1990| 5218107|\n",
      "|       1991| 5047025|\n",
      "|       1992| 5419473|\n",
      "|       1993| 6073171|\n",
      "|       1994| 6282662|\n",
      "|       1995| 6151021|\n",
      "|       1996| 7538678|\n",
      "|       1997| 7769638|\n",
      "|       1998| 8652044|\n",
      "|       1999| 9277090|\n",
      "|       2000| 9695972|\n",
      "|       2001| 9734421|\n",
      "|       2002|10693349|\n",
      "|       2003|11910858|\n",
      "|       2004|13530505|\n",
      "|       2005|14893186|\n",
      "|       2006|13686130|\n",
      "|       2007|12082265|\n",
      "|       2008|10527930|\n",
      "|       2009|10127190|\n",
      "|       2010|10243180|\n",
      "|       2011|10164527|\n",
      "|       2012|11011540|\n",
      "|       2013|11428358|\n",
      "|       2014|11335267|\n",
      "|       2015|11905606|\n",
      "|       2016|11775532|\n",
      "|       2017| 4498021|\n",
      "+-----------+--------+\n",
      "\n"
     ]
    }
   ],
   "source": [
    "df.groupBy('record_year').count().sort(\"record_year\").show(n=nYears)"
   ]
  },
  {
   "cell_type": "markdown",
   "id": "792389a2",
   "metadata": {},
   "source": [
    "If you are just interested in the minimum and maximum values of the ```record_year``` column, you can aggregate this column and apply the ```min```/```max``` functions to it:"
   ]
  },
  {
   "cell_type": "code",
   "execution_count": 22,
   "id": "43be097e",
   "metadata": {},
   "outputs": [
    {
     "name": "stdout",
     "output_type": "stream",
     "text": [
      "[Row(min(record_year)=1812)] [Row(max(record_year)=2017)]\n"
     ]
    }
   ],
   "source": [
    "minYear = df.agg({'record_year': 'min'}).collect()\n",
    "maxYear = df.agg({'record_year': 'max'}).collect()\n",
    "print(minYear, maxYear)"
   ]
  },
  {
   "cell_type": "markdown",
   "id": "4d157f56",
   "metadata": {},
   "source": [
    "## Filtering the CoreLogic data to create a subset of observations\n",
    "\n",
    "Suppose we only needed a subset of the CoreLogic data for research purposes, i.e., we were interested in property information in a select location. \n",
    "\n",
    "Here, our goal is to filter the CoreLogic data to create a subset that only contains rows relating to Detroit, Michigan. \n",
    "\n",
    "To start, let's print a select few rows and columns of the dataframe:"
   ]
  },
  {
   "cell_type": "code",
   "execution_count": 15,
   "id": "a22b0d49",
   "metadata": {},
   "outputs": [
    {
     "name": "stdout",
     "output_type": "stream",
     "text": [
      "+-----+----------+-----------+--------------+\n",
      "| FIPS|SITUS CITY|SITUS STATE|SITUS ZIP CODE|\n",
      "+-----+----------+-----------+--------------+\n",
      "|12099|      null|       null|          null|\n",
      "|17097|      null|       null|          null|\n",
      "|97200|      null|       null|          null|\n",
      "|97200|      null|       null|          null|\n",
      "|97199|      null|       null|          null|\n",
      "|97199|      null|       null|          null|\n",
      "|97199|      null|       null|          null|\n",
      "|97199|      null|       null|          null|\n",
      "|97199|      null|       null|          null|\n",
      "|97199|      null|       null|          null|\n",
      "|97199|      null|       null|          null|\n",
      "|97199|      null|       null|          null|\n",
      "|97199|      null|       null|          null|\n",
      "|97199|      null|       null|          null|\n",
      "|97199|      null|       null|          null|\n",
      "|97199|      null|       null|          null|\n",
      "|97199|      null|       null|          null|\n",
      "|97199|      null|       null|          null|\n",
      "|17097|      null|       null|          null|\n",
      "|97199|      null|       null|          null|\n",
      "+-----+----------+-----------+--------------+\n",
      "only showing top 20 rows\n",
      "\n"
     ]
    }
   ],
   "source": [
    "df.select('FIPS', 'SITUS CITY', 'SITUS STATE', 'SITUS ZIP CODE').show()"
   ]
  },
  {
   "cell_type": "markdown",
   "id": "6a86b461",
   "metadata": {},
   "source": [
    "Notice how there are many rows containing columns with ```null``` values. We will remove rows that have ```null``` values across all columns of interest because it would be hard to deduce the location without any of this information (FIPS code, property city, state and zip code) present."
   ]
  },
  {
   "cell_type": "code",
   "execution_count": 16,
   "id": "df7ea2e9",
   "metadata": {},
   "outputs": [],
   "source": [
    "df = df.dropna(subset=[\"FIPS\",\"SITUS CITY\", \"SITUS STATE\", \"SITUS ZIP CODE\"])"
   ]
  },
  {
   "cell_type": "markdown",
   "id": "a08a1f3f",
   "metadata": {},
   "source": [
    "Now let's see how many rows we have left out of the original 367,782,480:"
   ]
  },
  {
   "cell_type": "code",
   "execution_count": 17,
   "id": "2ef93115",
   "metadata": {},
   "outputs": [
    {
     "data": {
      "text/plain": [
       "311359183"
      ]
     },
     "execution_count": 17,
     "metadata": {},
     "output_type": "execute_result"
    }
   ],
   "source": [
    "df.count()"
   ]
  },
  {
   "cell_type": "markdown",
   "id": "433cde04",
   "metadata": {},
   "source": [
    "Let's assume we wanted to filter the CoreLogic data for Wayne county, MI, where the city of Detroit is located. The FIPS code for Wayne county is '26163' ([source](https://mi.postcodebase.com/county/26163))."
   ]
  },
  {
   "cell_type": "code",
   "execution_count": 18,
   "id": "30f4902f",
   "metadata": {},
   "outputs": [],
   "source": [
    "WayneCsubset = df.filter(df.FIPS==26163)"
   ]
  },
  {
   "cell_type": "markdown",
   "id": "c2467d87",
   "metadata": {},
   "source": [
    "Let's print a few rows and columns of the subset. As you can see, we are only dealing with Wayne county now."
   ]
  },
  {
   "cell_type": "code",
   "execution_count": 19,
   "id": "bb6648b0",
   "metadata": {},
   "outputs": [
    {
     "name": "stdout",
     "output_type": "stream",
     "text": [
      "+-----+----------+-----------+--------------+\n",
      "| FIPS|SITUS CITY|SITUS STATE|SITUS ZIP CODE|\n",
      "+-----+----------+-----------+--------------+\n",
      "|26163|   DETROIT|         MI|     482013148|\n",
      "|26163|   DETROIT|         MI|     482013148|\n",
      "|26163|   DETROIT|         MI|     482013148|\n",
      "|26163|   DETROIT|         MI|     482013148|\n",
      "|26163|   DETROIT|         MI|     482012463|\n",
      "|26163|   DETROIT|         MI|         48202|\n",
      "|26163|   DETROIT|         MI|         48202|\n",
      "|26163|   DETROIT|         MI|         48202|\n",
      "|26163|   DETROIT|         MI|     482022828|\n",
      "|26163|   DETROIT|         MI|     482022828|\n",
      "|26163|   DETROIT|         MI|     482022828|\n",
      "|26163|   DETROIT|         MI|     482022828|\n",
      "|26163|   DETROIT|         MI|     482022828|\n",
      "|26163|   DETROIT|         MI|         48202|\n",
      "|26163|   DETROIT|         MI|     482021302|\n",
      "|26163|   DETROIT|         MI|     482021368|\n",
      "|26163|   DETROIT|         MI|     482021368|\n",
      "|26163|   DETROIT|         MI|     482021368|\n",
      "|26163|   DETROIT|         MI|     482021368|\n",
      "|26163|   DETROIT|         MI|     482021368|\n",
      "+-----+----------+-----------+--------------+\n",
      "only showing top 20 rows\n",
      "\n"
     ]
    }
   ],
   "source": [
    "WayneCsubset.select('FIPS', 'SITUS CITY', 'SITUS STATE', 'SITUS ZIP CODE').show()"
   ]
  },
  {
   "cell_type": "markdown",
   "id": "8afb7ce7",
   "metadata": {},
   "source": [
    "How many rows are in the Wayne county subset? We can use the count() method:"
   ]
  },
  {
   "cell_type": "code",
   "execution_count": 20,
   "id": "01514600",
   "metadata": {},
   "outputs": [
    {
     "data": {
      "text/plain": [
       "2132959"
      ]
     },
     "execution_count": 20,
     "metadata": {},
     "output_type": "execute_result"
    }
   ],
   "source": [
    "WayneCsubset.count()"
   ]
  },
  {
   "cell_type": "markdown",
   "id": "8a766ab9",
   "metadata": {},
   "source": [
    "There are many different cities within Wayne county. Let's get a list of all of them:"
   ]
  },
  {
   "cell_type": "code",
   "execution_count": 21,
   "id": "f61109f4",
   "metadata": {},
   "outputs": [
    {
     "data": {
      "text/plain": [
       "[Row(SITUS CITY='LINCOLN PARK'),\n",
       " Row(SITUS CITY='MELVINDALE'),\n",
       " Row(SITUS CITY='NORTHVILLE'),\n",
       " Row(SITUS CITY='TRENTON'),\n",
       " Row(SITUS CITY='YPSILANTI'),\n",
       " Row(SITUS CITY='BELLEVILLE'),\n",
       " Row(SITUS CITY='OAK PARK'),\n",
       " Row(SITUS CITY='RIVERVIEW'),\n",
       " Row(SITUS CITY='GROSSE POINTE WOODS'),\n",
       " Row(SITUS CITY='FLAT ROCK'),\n",
       " Row(SITUS CITY='GROSSE ILE'),\n",
       " Row(SITUS CITY='GROSSE POINTE PARK'),\n",
       " Row(SITUS CITY='WARREN'),\n",
       " Row(SITUS CITY='GIBRALTAR'),\n",
       " Row(SITUS CITY='GROSSE POINTE'),\n",
       " Row(SITUS CITY='MONROE'),\n",
       " Row(SITUS CITY='WYANDOTTE'),\n",
       " Row(SITUS CITY='HIGHLAND'),\n",
       " Row(SITUS CITY='WOODHAVEN'),\n",
       " Row(SITUS CITY='INKSTER'),\n",
       " Row(SITUS CITY='SOUTHGATE'),\n",
       " Row(SITUS CITY='SUMPTER TWP'),\n",
       " Row(SITUS CITY='GARDEN CITY'),\n",
       " Row(SITUS CITY='HIGHLAND PARK'),\n",
       " Row(SITUS CITY='DETROIT'),\n",
       " Row(SITUS CITY='FERNDALE'),\n",
       " Row(SITUS CITY='CHELSEA'),\n",
       " Row(SITUS CITY='BROWNSTOWN TWP'),\n",
       " Row(SITUS CITY='NEW HUDSON'),\n",
       " Row(SITUS CITY='LANSING'),\n",
       " Row(SITUS CITY='DEARBORN HEIGHTS'),\n",
       " Row(SITUS CITY='CANTON'),\n",
       " Row(SITUS CITY='DEARBORN'),\n",
       " Row(SITUS CITY='GROSSE POINTE SHORES'),\n",
       " Row(SITUS CITY='ROMULUS'),\n",
       " Row(SITUS CITY='BINGHAM FARMS'),\n",
       " Row(SITUS CITY='LIVONIA'),\n",
       " Row(SITUS CITY='RIVER ROUGE'),\n",
       " Row(SITUS CITY='VAN BUREN TWP'),\n",
       " Row(SITUS CITY='NEW BOSTON'),\n",
       " Row(SITUS CITY='WESTLAND'),\n",
       " Row(SITUS CITY='GROSSE POINTE FARMS'),\n",
       " Row(SITUS CITY='PLYMOUTH'),\n",
       " Row(SITUS CITY='BROWNSTOWN'),\n",
       " Row(SITUS CITY='REDFORD'),\n",
       " Row(SITUS CITY='WAYNE'),\n",
       " Row(SITUS CITY='HARPER WOODS'),\n",
       " Row(SITUS CITY='TAYLOR'),\n",
       " Row(SITUS CITY='CARLETON'),\n",
       " Row(SITUS CITY='ALLEN PARK'),\n",
       " Row(SITUS CITY='SOUTHFIELD'),\n",
       " Row(SITUS CITY='ECORSE'),\n",
       " Row(SITUS CITY='ROCKWOOD'),\n",
       " Row(SITUS CITY='BROWNSTOWN TOWNSHIP'),\n",
       " Row(SITUS CITY='HAMTRAMCK')]"
      ]
     },
     "execution_count": 21,
     "metadata": {},
     "output_type": "execute_result"
    }
   ],
   "source": [
    "WayneCsubset.select('SITUS CITY').distinct().collect()"
   ]
  },
  {
   "cell_type": "markdown",
   "id": "842db83c",
   "metadata": {},
   "source": [
    "Let's create a subset for Detroit only. We will filter using the 'SITUS CITY' variable. This variables designates the city associated with the property address. \n",
    "\n",
    "Note that this is a straightforward filtering method if using the Wayne county subset we created previously. "
   ]
  },
  {
   "cell_type": "code",
   "execution_count": 22,
   "id": "1fd6c392",
   "metadata": {},
   "outputs": [],
   "source": [
    "detroit = WayneCsubset.filter(WayneCsubset[\"SITUS CITY\"]==\"DETROIT\")"
   ]
  },
  {
   "cell_type": "markdown",
   "id": "85a19a40",
   "metadata": {},
   "source": [
    "If you wanted to create a Detroit subset from the entire dataset, we suggest filtering on 'SITUS CITY' and 'SITUS STATE'. When using the entire dataframe, filtering on 'SITUS CITY' alone could run into city name ambiguity across states. "
   ]
  },
  {
   "cell_type": "code",
   "execution_count": 23,
   "id": "c54340b2",
   "metadata": {},
   "outputs": [],
   "source": [
    "detroit2 = df.filter((df[\"SITUS CITY\"]==\"DETROIT\") & (df[\"SITUS STATE\"]==\"MI\"))"
   ]
  },
  {
   "cell_type": "markdown",
   "id": "294452ef",
   "metadata": {},
   "source": [
    "How many rows are in the Detroit subset? Depending on the size of the dataframe, count() can take a bit of time to calculate. Therefore, we will save the value to a variable in case we need to use it later on. This can save us some processing time (cf. comment on \"lazy evaluation\" above)."
   ]
  },
  {
   "cell_type": "code",
   "execution_count": 24,
   "id": "f2b4aba7",
   "metadata": {},
   "outputs": [
    {
     "data": {
      "text/plain": [
       "1129407"
      ]
     },
     "execution_count": 24,
     "metadata": {},
     "output_type": "execute_result"
    }
   ],
   "source": [
    "detroitCount = detroit.count()\n",
    "detroitCount"
   ]
  },
  {
   "cell_type": "markdown",
   "id": "aed95cf4",
   "metadata": {},
   "source": [
    "Do the two filtering methods yield the same number of rows?"
   ]
  },
  {
   "cell_type": "code",
   "execution_count": 25,
   "id": "cf449eef",
   "metadata": {},
   "outputs": [
    {
     "data": {
      "text/plain": [
       "1129438"
      ]
     },
     "execution_count": 25,
     "metadata": {},
     "output_type": "execute_result"
    }
   ],
   "source": [
    "detroit2Count = detroit2.count()\n",
    "detroit2Count"
   ]
  },
  {
   "cell_type": "code",
   "execution_count": 26,
   "id": "a1b9ff6b",
   "metadata": {},
   "outputs": [
    {
     "data": {
      "text/plain": [
       "31"
      ]
     },
     "execution_count": 26,
     "metadata": {},
     "output_type": "execute_result"
    }
   ],
   "source": [
    "detroit2Count - detroitCount"
   ]
  },
  {
   "cell_type": "markdown",
   "id": "6eb79a17",
   "metadata": {},
   "source": [
    "The second subset contains slightly more records. This means that we get two different results depending on whether we filter by (SITUS CITY == \"DETROIT\" AND SITUS STATE == \"MI\") versus (FIPS == \"26163\" AND SITUS CITY == \"DETROIT\"). \n",
    "\n",
    "Let's investigate the Detroit subset with more records (```detroit2```). We can tabulate the FIPS codes that have city==\"DETROIT\" and state==\"MI\": "
   ]
  },
  {
   "cell_type": "code",
   "execution_count": 27,
   "id": "9f3ce289",
   "metadata": {},
   "outputs": [
    {
     "name": "stdout",
     "output_type": "stream",
     "text": [
      "+-----+----------+-----------+-------+\n",
      "| FIPS|SITUS CITY|SITUS STATE|  count|\n",
      "+-----+----------+-----------+-------+\n",
      "|26147|   DETROIT|         MI|      6|\n",
      "|26061|   DETROIT|         MI|      2|\n",
      "|26035|   DETROIT|         MI|      2|\n",
      "|26161|   DETROIT|         MI|      1|\n",
      "|26163|   DETROIT|         MI|1129407|\n",
      "|48039|   DETROIT|         MI|      2|\n",
      "|26069|   DETROIT|         MI|      2|\n",
      "|26071|   DETROIT|         MI|      5|\n",
      "|26099|   DETROIT|         MI|      2|\n",
      "|26115|   DETROIT|         MI|      9|\n",
      "+-----+----------+-----------+-------+\n",
      "\n"
     ]
    }
   ],
   "source": [
    "detroit2.groupBy('FIPS', 'SITUS CITY', 'SITUS STATE').count().show()"
   ]
  },
  {
   "cell_type": "markdown",
   "id": "46099de2",
   "metadata": {},
   "source": [
    "As you can see, there are multiple FIPS codes associated with Detroit, MI, in this data subset when there should really only be one FIPS code for Detroit in Wayne County, Michigan.  For example, FIPS code '26115' (9 occurences) is for Monroe County which does not contain the city of Detroit. \n",
    "\n",
    "For each of the additional FIPS codes identified above, we would have to do some further research to determine whether these FIPS codes constitute data entry errors that need to be corrected or whether they identify properties that are not actually located in Detroit. To do this, we would have to review each FIPS code and also inspect the addresses associated with each property to determine where exactly a property is legally located. This work is beyond the purposes of the current analysis."
   ]
  },
  {
   "cell_type": "markdown",
   "id": "b8c0e711",
   "metadata": {},
   "source": [
    "## Saving a subset of the CoreLogic data to a spreadsheet\n",
    "\n",
    "Let's assume the detroit2 dataframe looks like what we are interested in and we now want to write this Detroit subset to a new csv file in an ```output/``` folder in our ```home/[uniqname]/``` directory. (Note: You probably need to change this path, depending on where you store this notebook.) \n",
    "\n",
    "By default, Spark writes big data into multiple files to optimize computation times during import and export. This is recommended practice, especially if the data is big, i.e., if it has many rows and/or columns.\n",
    "\n",
    "The below command writes 100 partitions of the Detroit data (i.e., 100 csv files) to the designated folder. \n",
    "\n",
    "_Note_: If you saved data to this path before, you will need to add the argument ```overwrite=True``` to the function call like so ```detroit2.write.csv(\"../../output/corelogic_data_deeds_Detroit_partitioned\", overwrite=True)```"
   ]
  },
  {
   "cell_type": "code",
   "execution_count": 28,
   "id": "a5ab02ae",
   "metadata": {},
   "outputs": [],
   "source": [
    "detroit2.write.csv(\"../../output/corelogic_data_deeds_Detroit_partitioned\")"
   ]
  },
  {
   "cell_type": "markdown",
   "id": "7a1bec64",
   "metadata": {},
   "source": [
    "There is also a way to force the data into one single file. Sometimes, a single file is needed to continue processing the data with other research software. Saving the data into one file is a little risky and might not always work, so caution is advised. \n",
    "\n",
    "The following command combines the data into one core (Caution: it is very slow). If the data does not fit, it will throw an error. _Note_: If you saved data to this path before, you will need to add the argument ```overwrite=True``` to the function call. The overwrite argument would overwrite the previously created ```output/``` directory.\n",
    "\n",
    "Note: You would only need to run this, if you indeed need only one single data file. Many research programs allow you to read in and combine multiple data files into one object. See for example the [glob method in Python](https://docs.python.org/3/library/glob.html)."
   ]
  },
  {
   "cell_type": "code",
   "execution_count": 29,
   "id": "9d0a9e53",
   "metadata": {},
   "outputs": [],
   "source": [
    "detroit2.coalesce(1).write.csv(\"../../output/corelogic_data_deeds_Detroit_singlefile\")"
   ]
  },
  {
   "cell_type": "markdown",
   "id": "c9c58568",
   "metadata": {},
   "source": [
    "## Drawing a data sample for research and development purposes\n",
    "Let's say we want to draw and save just a sample of the Detroit data (n~1000) that is small enough to use for writing and testing code for analyzing the Detroit subset. We can use PySpark's DataFrame.sample() method. However, we have to specify a fraction of the dataframe size rather than explicitly the size of the sample, n. Also, we are not guaranteed to get EXACTLY the fraction that we specify, due to the way the sample() function is implemented. Let's see how that works.\n",
    "\n",
    "Since we want about 1000 rows in our sample, we can divide 1000 by detroit2Count to see what fraction that is."
   ]
  },
  {
   "cell_type": "code",
   "execution_count": 30,
   "id": "92f403df",
   "metadata": {},
   "outputs": [
    {
     "data": {
      "text/plain": [
       "0.0008853960996531018"
      ]
     },
     "execution_count": 30,
     "metadata": {},
     "output_type": "execute_result"
    }
   ],
   "source": [
    "sampleFraction = 1000 / detroit2Count\n",
    "sampleFraction"
   ]
  },
  {
   "cell_type": "markdown",
   "id": "f9352aac",
   "metadata": {},
   "source": [
    "Now, let's sample the Detroit data."
   ]
  },
  {
   "cell_type": "code",
   "execution_count": 31,
   "id": "1b59e9ba",
   "metadata": {},
   "outputs": [],
   "source": [
    "detroitSample = detroit2.sample(fraction=sampleFraction)"
   ]
  },
  {
   "cell_type": "markdown",
   "id": "fca12fd8",
   "metadata": {},
   "source": [
    "How many records do we have in our sample?"
   ]
  },
  {
   "cell_type": "code",
   "execution_count": 32,
   "id": "cc78e8cb",
   "metadata": {},
   "outputs": [
    {
     "data": {
      "text/plain": [
       "1002"
      ]
     },
     "execution_count": 32,
     "metadata": {},
     "output_type": "execute_result"
    }
   ],
   "source": [
    "detroitSample.count()"
   ]
  },
  {
   "cell_type": "markdown",
   "id": "83e58204",
   "metadata": {},
   "source": [
    "Now that we have created a small sample of our Detroit records for research and development purposes, we can write the results to a spreadsheet (note that using coalesce(1) can still be quite expensive. Use only if absolutely necessary)."
   ]
  },
  {
   "cell_type": "code",
   "execution_count": 33,
   "id": "28c18402",
   "metadata": {},
   "outputs": [],
   "source": [
    "detroitSample.write.csv(\"../../output/corelogic_data_deeds_Detroit_sampled_1031_singlefile\")"
   ]
  }
 ],
 "metadata": {
  "kernelspec": {
   "display_name": "Python 3",
   "language": "python",
   "name": "python3"
  },
  "language_info": {
   "codemirror_mode": {
    "name": "ipython",
    "version": 3
   },
   "file_extension": ".py",
   "mimetype": "text/x-python",
   "name": "python",
   "nbconvert_exporter": "python",
   "pygments_lexer": "ipython3",
   "version": "3.8.8"
  }
 },
 "nbformat": 4,
 "nbformat_minor": 5
}
